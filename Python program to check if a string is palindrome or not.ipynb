{
 "cells": [
  {
   "cell_type": "markdown",
   "metadata": {},
   "source": [
    "# Python program to check if a string is palindrome or not"
   ]
  },
  {
   "cell_type": "code",
   "execution_count": 36,
   "metadata": {},
   "outputs": [
    {
     "name": "stdout",
     "output_type": "stream",
     "text": [
      "enter a string sachin\n",
      "no\n"
     ]
    }
   ],
   "source": [
    "name = input('enter a string ')\n",
    "if(name[::1]==name[::-1]):\n",
    "    print('yes')\n",
    "else:\n",
    "    print('no')"
   ]
  },
  {
   "cell_type": "code",
   "execution_count": 48,
   "metadata": {},
   "outputs": [
    {
     "name": "stdout",
     "output_type": "stream",
     "text": [
      "its palindrome\n"
     ]
    }
   ],
   "source": [
    "def check(name='sachin'):\n",
    "    if(name[::1]==name[::-1]):\n",
    "        print('its palindrome')\n",
    "    else:\n",
    "        print('its not palindrome')\n",
    "check('malayalam')"
   ]
  },
  {
   "cell_type": "code",
   "execution_count": 44,
   "metadata": {},
   "outputs": [
    {
     "name": "stdout",
     "output_type": "stream",
     "text": [
      "its not palidrome\n"
     ]
    }
   ],
   "source": [
    "# Method using one extra variable\n",
    "s = 'sachin'\n",
    "w = ''\n",
    "\n",
    "for i in s:\n",
    "    w = i + w\n",
    "    \n",
    "if (s==w):\n",
    "    print('its palindrome')\n",
    "else:\n",
    "    print('its not palidrome')\n"
   ]
  }
 ],
 "metadata": {
  "kernelspec": {
   "display_name": "Python 3",
   "language": "python",
   "name": "python3"
  },
  "language_info": {
   "codemirror_mode": {
    "name": "ipython",
    "version": 3
   },
   "file_extension": ".py",
   "mimetype": "text/x-python",
   "name": "python",
   "nbconvert_exporter": "python",
   "pygments_lexer": "ipython3",
   "version": "3.8.5"
  }
 },
 "nbformat": 4,
 "nbformat_minor": 4
}
