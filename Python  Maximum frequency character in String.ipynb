{
 "cells": [
  {
   "cell_type": "markdown",
   "metadata": {},
   "source": [
    "# Python | Maximum frequency character in String"
   ]
  },
  {
   "cell_type": "code",
   "execution_count": 77,
   "metadata": {},
   "outputs": [
    {
     "name": "stdout",
     "output_type": "stream",
     "text": [
      "the orginal string is GeeksforGeeks\n",
      "we have cretated a dict to get achieve the goal {'G': 2, 'e': 4, 'k': 2, 's': 2, 'f': 1, 'o': 1, 'r': 1}\n",
      "the max frequency character in the string is e\n"
     ]
    }
   ],
   "source": [
    "name = 'GeeksforGeeks'\n",
    "d = {}\n",
    "for i in name:\n",
    "    if i in d:\n",
    "        d[i] = d[i] + 1\n",
    "    else:\n",
    "        d[i] = 1\n",
    "print('the orginal string is', name)\n",
    "print('we have cretated a dict to get achieve the goal',d)\n",
    "print('the max frequency character in the string is', max(d,key=d.get))"
   ]
  },
  {
   "cell_type": "code",
   "execution_count": 83,
   "metadata": {},
   "outputs": [
    {
     "name": "stdout",
     "output_type": "stream",
     "text": [
      "we have created a dic Counter({'e': 4, 'G': 2, 'k': 2, 's': 2, 'f': 1, 'o': 1, 'r': 1})\n",
      "the max frequency character in the string is e\n"
     ]
    }
   ],
   "source": [
    "from collections import Counter\n",
    "name = 'GeeksforGeeks'\n",
    "counts = Counter(name)\n",
    "print('we have created a dic', counts)\n",
    "print('the max frequency character in the string is', max(counts,key=counts.get))"
   ]
  },
  {
   "cell_type": "code",
   "execution_count": null,
   "metadata": {},
   "outputs": [],
   "source": []
  }
 ],
 "metadata": {
  "kernelspec": {
   "display_name": "Python 3",
   "language": "python",
   "name": "python3"
  },
  "language_info": {
   "codemirror_mode": {
    "name": "ipython",
    "version": 3
   },
   "file_extension": ".py",
   "mimetype": "text/x-python",
   "name": "python",
   "nbconvert_exporter": "python",
   "pygments_lexer": "ipython3",
   "version": "3.8.5"
  }
 },
 "nbformat": 4,
 "nbformat_minor": 4
}
