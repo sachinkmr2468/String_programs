{
 "cells": [
  {
   "cell_type": "markdown",
   "metadata": {},
   "source": [
    "# Find words which are greater than given length k"
   ]
  },
  {
   "cell_type": "code",
   "execution_count": 22,
   "metadata": {},
   "outputs": [
    {
     "name": "stdout",
     "output_type": "stream",
     "text": [
      "enter stringshello geeks for ramu geeks is computer science portal sach\n",
      "enter the lenght of the strings you looking for = 4\n",
      "words of lenght = 4  you interested in are =  ramu\n",
      "words of lenght = 4  you interested in are =  sach\n"
     ]
    }
   ],
   "source": [
    "def check(str,n):\n",
    "    str1 = str.split()\n",
    "    for i in str1:\n",
    "        if len(i)>num:\n",
    "            continue\n",
    "        elif len(i)<num:\n",
    "            continue\n",
    "        else:\n",
    "            print('words of lenght =',n,' you interested in are = ', i)\n",
    "inputs = input('enter strings')\n",
    "num = int(input('enter the lenght of the strings you looking for = '))\n",
    "check(inputs,num)"
   ]
  },
  {
   "cell_type": "code",
   "execution_count": 17,
   "metadata": {},
   "outputs": [
    {
     "name": "stdout",
     "output_type": "stream",
     "text": [
      "these words lenght are equal to 4 = ramu\n",
      "these words lenght are equal to 4 = sach\n"
     ]
    }
   ],
   "source": [
    "str = \"hello geeks for ramu geeks is computer science portal sach\" \n",
    "str1 = str.split()\n",
    "num = 4\n",
    "\n",
    "for i in str1:\n",
    "    if len(i)>4:\n",
    "        continue\n",
    "    elif len(i)<4:\n",
    "        continue\n",
    "    else:\n",
    "        print('these words lenght are equal to 4 =', i)"
   ]
  },
  {
   "cell_type": "code",
   "execution_count": 16,
   "metadata": {},
   "outputs": [
    {
     "name": "stdout",
     "output_type": "stream",
     "text": [
      "these words length are greater than 4 = hello\n",
      "these words length are greater than 4 = geeks\n",
      "these words length are less than 4 = for\n",
      "these words lenght are equal to 4 = ramu\n",
      "these words length are greater than 4 = geeks\n",
      "these words length are less than 4 = is\n",
      "these words length are greater than 4 = computer\n",
      "these words length are greater than 4 = science\n",
      "these words length are greater than 4 = portal\n",
      "these words lenght are equal to 4 = sach\n"
     ]
    }
   ],
   "source": [
    "str = \"hello geeks for ramu geeks is computer science portal sach\" \n",
    "str1 = str.split()\n",
    "num = 4\n",
    "\n",
    "for i in str1:\n",
    "    if len(i)>4:\n",
    "        print('these words length are greater than 4 =', i)\n",
    "    elif len(i)<4:\n",
    "        print('these words length are less than 4 =', i)\n",
    "    else:\n",
    "        print('these words lenght are equal to 4 =', i)"
   ]
  },
  {
   "cell_type": "code",
   "execution_count": 13,
   "metadata": {},
   "outputs": [
    {
     "name": "stdout",
     "output_type": "stream",
     "text": [
      "sach\n",
      "ramu\n"
     ]
    }
   ],
   "source": [
    "str = \"hello sach ramu\" \n",
    "str1 = str.split()\n",
    "num = 4\n",
    "\n",
    "for i in str1:\n",
    "    if len(i)==4:\n",
    "        print(i)"
   ]
  },
  {
   "cell_type": "code",
   "execution_count": null,
   "metadata": {},
   "outputs": [],
   "source": []
  }
 ],
 "metadata": {
  "kernelspec": {
   "display_name": "Python 3",
   "language": "python",
   "name": "python3"
  },
  "language_info": {
   "codemirror_mode": {
    "name": "ipython",
    "version": 3
   },
   "file_extension": ".py",
   "mimetype": "text/x-python",
   "name": "python",
   "nbconvert_exporter": "python",
   "pygments_lexer": "ipython3",
   "version": "3.8.5"
  }
 },
 "nbformat": 4,
 "nbformat_minor": 4
}
