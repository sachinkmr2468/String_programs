{
 "cells": [
  {
   "cell_type": "markdown",
   "metadata": {},
   "source": [
    "# Python – Least Frequent Character in String"
   ]
  },
  {
   "cell_type": "code",
   "execution_count": 12,
   "metadata": {},
   "outputs": [
    {
     "name": "stdout",
     "output_type": "stream",
     "text": [
      "[1]\n"
     ]
    }
   ],
   "source": [
    "# This method not that useful as i was able to get the count but couldnt get the respective items\n",
    "name = 'GeeksforGeeks'\n",
    "\n",
    "s = []\n",
    "for i in name:\n",
    "    s.append([name.count(i)])\n",
    "    \n",
    "print(min(s))"
   ]
  },
  {
   "cell_type": "code",
   "execution_count": 39,
   "metadata": {},
   "outputs": [
    {
     "name": "stdout",
     "output_type": "stream",
     "text": [
      "GeeksforGeeks is the original string\n",
      "{'G': 2, 'e': 4, 'k': 2, 's': 2, 'f': 1, 'o': 1, 'r': 1}\n",
      "The minimum of all characters in GeeksforGeeks is f\n"
     ]
    }
   ],
   "source": [
    "test = \"GeeksforGeeks\"\n",
    "print(test,'is the original string')\n",
    "d = {}\n",
    "for i in test:\n",
    "    if i in d:\n",
    "        d[i]= d[i] + 1\n",
    "    else:\n",
    "        d[i] = 1\n",
    "res = min(d,key = d.get)\n",
    "print(d)\n",
    "print('The minimum of all characters in GeeksforGeeks is',res)"
   ]
  },
  {
   "cell_type": "code",
   "execution_count": 75,
   "metadata": {},
   "outputs": [
    {
     "name": "stdout",
     "output_type": "stream",
     "text": [
      "Counter({'e': 4, 'G': 2, 'k': 2, 's': 2, 'f': 1, 'o': 1, 'r': 1})\n",
      "the minimun of all characters in GeeksforGeeks is f\n"
     ]
    }
   ],
   "source": [
    "from collections import Counter\n",
    "\n",
    "test_str = \"GeeksforGeeks\"\n",
    "\n",
    "r = Counter(test_str)\n",
    "print(r)\n",
    "r = min(r, key=r.get)\n",
    "print('the minimun of all characters in GeeksforGeeks is', r)\n",
    " "
   ]
  },
  {
   "cell_type": "code",
   "execution_count": null,
   "metadata": {},
   "outputs": [],
   "source": []
  }
 ],
 "metadata": {
  "kernelspec": {
   "display_name": "Python 3",
   "language": "python",
   "name": "python3"
  },
  "language_info": {
   "codemirror_mode": {
    "name": "ipython",
    "version": 3
   },
   "file_extension": ".py",
   "mimetype": "text/x-python",
   "name": "python",
   "nbconvert_exporter": "python",
   "pygments_lexer": "ipython3",
   "version": "3.8.5"
  }
 },
 "nbformat": 4,
 "nbformat_minor": 4
}
