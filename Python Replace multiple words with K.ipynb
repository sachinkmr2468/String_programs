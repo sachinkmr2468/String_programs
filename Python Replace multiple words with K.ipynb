{
 "cells": [
  {
   "cell_type": "markdown",
   "metadata": {},
   "source": [
    "# Python – Replace multiple words with K"
   ]
  },
  {
   "cell_type": "code",
   "execution_count": 16,
   "metadata": {},
   "outputs": [
    {
     "name": "stdout",
     "output_type": "stream",
     "text": [
      "['Geeksforgeeks', 'is', 'gfg', 'gfg', 'geeks', 'and', 'gfg']\n"
     ]
    }
   ],
   "source": [
    "str = 'Geeksforgeeks is best for geeks and CS'\n",
    "str1 = str.split()\n",
    "word_list = [\"best\", 'CS', 'for'] # words which needs to be replaced\n",
    "repl_wrd = 'gfg' # these will be replacement words\n",
    "for i in range(len(str1)):\n",
    "    if str1[i] in word_list:\n",
    "        str1[i]=repl_wrd\n",
    "    else:\n",
    "        pass\n",
    "print(str1)"
   ]
  },
  {
   "cell_type": "code",
   "execution_count": null,
   "metadata": {},
   "outputs": [],
   "source": []
  }
 ],
 "metadata": {
  "kernelspec": {
   "display_name": "Python 3",
   "language": "python",
   "name": "python3"
  },
  "language_info": {
   "codemirror_mode": {
    "name": "ipython",
    "version": 3
   },
   "file_extension": ".py",
   "mimetype": "text/x-python",
   "name": "python",
   "nbconvert_exporter": "python",
   "pygments_lexer": "ipython3",
   "version": "3.8.5"
  }
 },
 "nbformat": 4,
 "nbformat_minor": 4
}
