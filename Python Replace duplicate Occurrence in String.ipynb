{
 "cells": [
  {
   "cell_type": "markdown",
   "metadata": {},
   "source": [
    "# Python – Replace duplicate Occurrence in String"
   ]
  },
  {
   "cell_type": "code",
   "execution_count": 5,
   "metadata": {},
   "outputs": [
    {
     "name": "stdout",
     "output_type": "stream",
     "text": [
      "['my', 'name', 'is', 'sachin']\n"
     ]
    }
   ],
   "source": [
    "name = 'my my name is sachin'\n",
    "name1 = name.split()\n",
    "name2 = []\n",
    "for i in name1:\n",
    "    if i not in name2:\n",
    "        name2.append(i)\n",
    "    else:\n",
    "        pass\n",
    "print(name2)"
   ]
  },
  {
   "cell_type": "code",
   "execution_count": 6,
   "metadata": {},
   "outputs": [
    {
     "name": "stdout",
     "output_type": "stream",
     "text": [
      "{'my', 'name', 'is', 'sachin'}\n"
     ]
    }
   ],
   "source": [
    "name = 'my my name is sachin'\n",
    "name1 = name.split()\n",
    "name2 = set(name1)\n",
    "print(name2)"
   ]
  },
  {
   "cell_type": "code",
   "execution_count": 7,
   "metadata": {},
   "outputs": [
    {
     "name": "stdout",
     "output_type": "stream",
     "text": [
      "['my', 'name', 'is', 'sachin']\n"
     ]
    }
   ],
   "source": [
    "name = 'my my name is sachin'\n",
    "name1 = name.split()\n",
    "name2 = []\n",
    "for i in name1:\n",
    "    if i in name2:\n",
    "        pass\n",
    "    else:\n",
    "        name2.append(i)\n",
    "print(name2)"
   ]
  },
  {
   "cell_type": "code",
   "execution_count": null,
   "metadata": {},
   "outputs": [],
   "source": []
  }
 ],
 "metadata": {
  "kernelspec": {
   "display_name": "Python 3",
   "language": "python",
   "name": "python3"
  },
  "language_info": {
   "codemirror_mode": {
    "name": "ipython",
    "version": 3
   },
   "file_extension": ".py",
   "mimetype": "text/x-python",
   "name": "python",
   "nbconvert_exporter": "python",
   "pygments_lexer": "ipython3",
   "version": "3.8.5"
  }
 },
 "nbformat": 4,
 "nbformat_minor": 4
}
