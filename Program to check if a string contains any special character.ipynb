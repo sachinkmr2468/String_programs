{
 "cells": [
  {
   "cell_type": "markdown",
   "metadata": {},
   "source": [
    "# Program to check if a string contains any special character"
   ]
  },
  {
   "cell_type": "code",
   "execution_count": 137,
   "metadata": {},
   "outputs": [
    {
     "name": "stdout",
     "output_type": "stream",
     "text": [
      "special characters are present, hence not accepted $\n"
     ]
    }
   ],
   "source": [
    "# this method will only tell whether the string is not accepted\n",
    "# go by 2 method\n",
    "name = 'GG$<'\n",
    "s = '[@_!#$%^&*()<>?/\\|}{~:]'\n",
    "s1 = ''\n",
    "s2 =''\n",
    "for i in name:\n",
    "    if i in s:\n",
    "        s1 = s1 +i\n",
    "        print('special characters are present, hence not accepted',s1)\n",
    "        break\n",
    "    else:\n",
    "        pass\n",
    "\n",
    "\n",
    "\n"
   ]
  },
  {
   "cell_type": "code",
   "execution_count": 161,
   "metadata": {},
   "outputs": [
    {
     "name": "stdout",
     "output_type": "stream",
     "text": [
      "no characters are present, hence accepted GG\n",
      " not accepted as special characters are present $$\n"
     ]
    }
   ],
   "source": [
    "def check(name):\n",
    "    s = '[@_!#$%^&*()<>?/\\|}{~:]'\n",
    "    s1 = ''\n",
    "    s2 = ''\n",
    "    for i in name:\n",
    "        if i in s:\n",
    "            s1 = s1 + i\n",
    "        else:\n",
    "            s2 =  s2 + i\n",
    "        \n",
    "    if len(s1) >= 1:\n",
    "        print(' not accepted as special characters are present',s1)\n",
    "    else:\n",
    "        print('no characters are present, hence accepted',s2)\n",
    "    \n",
    "\n",
    "check('GG')\n",
    "check('GG$$')"
   ]
  },
  {
   "cell_type": "code",
   "execution_count": null,
   "metadata": {},
   "outputs": [],
   "source": []
  }
 ],
 "metadata": {
  "kernelspec": {
   "display_name": "Python 3",
   "language": "python",
   "name": "python3"
  },
  "language_info": {
   "codemirror_mode": {
    "name": "ipython",
    "version": 3
   },
   "file_extension": ".py",
   "mimetype": "text/x-python",
   "name": "python",
   "nbconvert_exporter": "python",
   "pygments_lexer": "ipython3",
   "version": "3.8.5"
  }
 },
 "nbformat": 4,
 "nbformat_minor": 4
}
