{
 "cells": [
  {
   "cell_type": "markdown",
   "metadata": {},
   "source": [
    "# Python program for removing i-th character from a string"
   ]
  },
  {
   "cell_type": "code",
   "execution_count": 12,
   "metadata": {},
   "outputs": [
    {
     "name": "stdout",
     "output_type": "stream",
     "text": [
      "G\n",
      "e\n",
      "k\n"
     ]
    }
   ],
   "source": [
    "name = 'Geek'\n",
    "for i in range(len(name)):\n",
    "    if (i == 1):\n",
    "        continue\n",
    "    else:\n",
    "        print(name[i])"
   ]
  },
  {
   "cell_type": "code",
   "execution_count": 13,
   "metadata": {},
   "outputs": [
    {
     "name": "stdout",
     "output_type": "stream",
     "text": [
      "enter the index which u wanna remove =1\n",
      "enter any string =geeks\n",
      "g\n",
      "e\n",
      "k\n",
      "s\n"
     ]
    }
   ],
   "source": [
    "def removing(str, n):\n",
    "    for i in range(len(str)):\n",
    "        if (i ==n):\n",
    "            continue\n",
    "        else:\n",
    "            print(str[i])\n",
    "num = int(input('enter the index which u wanna remove ='))\n",
    "name = input('enter any string =')\n",
    "removing(name,num)"
   ]
  },
  {
   "cell_type": "code",
   "execution_count": 19,
   "metadata": {},
   "outputs": [
    {
     "name": "stdout",
     "output_type": "stream",
     "text": [
      "enter the index which u wanna remove =6\n",
      "enter any string =geeks\n",
      "try again as your interested index 6 is greater than the length of the string  5\n"
     ]
    }
   ],
   "source": [
    "def removing(str, n):\n",
    "    for i in range(len(str)):\n",
    "        if(n>len(str)):\n",
    "            print('try again as your interested index',n,'is greater than the length of the string ', len(str))\n",
    "            break\n",
    "        elif (i==n):\n",
    "            continue\n",
    "        else:\n",
    "            print(str[i])\n",
    "            \n",
    "       \n",
    "num = int(input('enter the index which u wanna remove ='))\n",
    "name = input('enter any string =')\n",
    "removing(name,num)"
   ]
  },
  {
   "cell_type": "markdown",
   "metadata": {},
   "source": []
  }
 ],
 "metadata": {
  "kernelspec": {
   "display_name": "Python 3",
   "language": "python",
   "name": "python3"
  },
  "language_info": {
   "codemirror_mode": {
    "name": "ipython",
    "version": 3
   },
   "file_extension": ".py",
   "mimetype": "text/x-python",
   "name": "python",
   "nbconvert_exporter": "python",
   "pygments_lexer": "ipython3",
   "version": "3.8.5"
  }
 },
 "nbformat": 4,
 "nbformat_minor": 4
}
