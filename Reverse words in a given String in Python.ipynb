{
 "cells": [
  {
   "cell_type": "markdown",
   "metadata": {},
   "source": [
    "# Reverse words in a given String in Python"
   ]
  },
  {
   "cell_type": "code",
   "execution_count": 33,
   "metadata": {},
   "outputs": [
    {
     "name": "stdout",
     "output_type": "stream",
     "text": [
      "<class 'list'>\n",
      "['kumar', 'sachin']\n",
      "sachin kumar\n"
     ]
    }
   ],
   "source": [
    "#using reverse method\n",
    "# reverse method reverse the list\n",
    "name = 'sachin kumar'\n",
    "str1 = name.split(' ')\n",
    "str1.reverse()\n",
    "print(type(str1))\n",
    "print(str1)\n",
    "print(name)"
   ]
  },
  {
   "cell_type": "code",
   "execution_count": 36,
   "metadata": {},
   "outputs": [
    {
     "name": "stdout",
     "output_type": "stream",
     "text": [
      "['code', 'practice', 'quiz', 'geeks']\n"
     ]
    }
   ],
   "source": [
    "#using slicing \n",
    "str = 'geeks quiz practice code'\n",
    "str1 = str.split(' ')\n",
    "\n",
    "reversed = str1[::-1]\n",
    "print(reversed)\n"
   ]
  },
  {
   "cell_type": "code",
   "execution_count": null,
   "metadata": {},
   "outputs": [],
   "source": []
  }
 ],
 "metadata": {
  "kernelspec": {
   "display_name": "Python 3",
   "language": "python",
   "name": "python3"
  },
  "language_info": {
   "codemirror_mode": {
    "name": "ipython",
    "version": 3
   },
   "file_extension": ".py",
   "mimetype": "text/x-python",
   "name": "python",
   "nbconvert_exporter": "python",
   "pygments_lexer": "ipython3",
   "version": "3.8.5"
  }
 },
 "nbformat": 4,
 "nbformat_minor": 4
}
