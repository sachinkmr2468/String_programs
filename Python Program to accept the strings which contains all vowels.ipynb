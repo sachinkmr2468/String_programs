{
 "cells": [
  {
   "cell_type": "markdown",
   "metadata": {},
   "source": [
    "# Python | Program to accept the strings which contains all vowels"
   ]
  },
  {
   "cell_type": "code",
   "execution_count": 12,
   "metadata": {},
   "outputs": [
    {
     "name": "stdout",
     "output_type": "stream",
     "text": [
      "please enter any string sachin\n",
      "all the vowels are not present\n"
     ]
    }
   ],
   "source": [
    "def check(name):\n",
    "    vowels = {'a','e','i','o','u'}\n",
    "    v1 = name.lower()\n",
    "    v2 = set({})\n",
    "    for i in v1:\n",
    "        if i in vowels:\n",
    "            v2.add(i)\n",
    "        else:\n",
    "            pass\n",
    "    if len(v2) == len(vowels):\n",
    "        print('all the vowels are present')\n",
    "    else:\n",
    "        print('all the vowels are not present')\n",
    "        \n",
    "input_name = input('please enter any string ')\n",
    "check(input_name)\n",
    "        \n",
    "    "
   ]
  },
  {
   "cell_type": "code",
   "execution_count": 16,
   "metadata": {},
   "outputs": [
    {
     "name": "stdout",
     "output_type": "stream",
     "text": [
      "these are not vowels except all are present = {'s', 'k', 'g'}\n"
     ]
    }
   ],
   "source": [
    "def checks(name):\n",
    "    v1 = name.lower()\n",
    "    vowels = {'a','e','i','o','u'}\n",
    "    v2 = set({})\n",
    "    v3 = set({})\n",
    "    for i in v1:\n",
    "        if i in vowels:\n",
    "            v2.add(i)\n",
    "        else:\n",
    "            v3.add(i)\n",
    "    if len(v2)==len(vowels):\n",
    "        print('all the vowels are present')\n",
    "    else:\n",
    "        print('these are not vowels except all are present =',v3)\n",
    "input_name = 'geeks'\n",
    "checks(input_name)"
   ]
  },
  {
   "cell_type": "code",
   "execution_count": 21,
   "metadata": {},
   "outputs": [
    {
     "name": "stdout",
     "output_type": "stream",
     "text": [
      "all vowels are present except these = {'u', 'i', 'o', 'a'}\n"
     ]
    }
   ],
   "source": [
    "def checks(name):\n",
    "    v1 = name.lower()\n",
    "    vowels = {'a','e','i','o','u'}\n",
    "    v2 = set({})\n",
    "    v3 = set({})\n",
    "    for i in vowels:\n",
    "        if i in v1:\n",
    "            v2.add(i)\n",
    "        else:\n",
    "            v3.add(i)\n",
    "    if len(v2)==len(vowels):\n",
    "        print('all the vowels are present')\n",
    "    else:\n",
    "        print('all vowels are present except these =',v3)\n",
    "input_name = 'geeks'\n",
    "checks(input_name)"
   ]
  },
  {
   "cell_type": "code",
   "execution_count": null,
   "metadata": {},
   "outputs": [],
   "source": []
  }
 ],
 "metadata": {
  "kernelspec": {
   "display_name": "Python 3",
   "language": "python",
   "name": "python3"
  },
  "language_info": {
   "codemirror_mode": {
    "name": "ipython",
    "version": 3
   },
   "file_extension": ".py",
   "mimetype": "text/x-python",
   "name": "python",
   "nbconvert_exporter": "python",
   "pygments_lexer": "ipython3",
   "version": "3.8.5"
  }
 },
 "nbformat": 4,
 "nbformat_minor": 4
}
