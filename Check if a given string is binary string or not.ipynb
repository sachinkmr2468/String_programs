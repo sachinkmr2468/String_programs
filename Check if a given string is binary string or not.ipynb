{
 "cells": [
  {
   "cell_type": "markdown",
   "metadata": {},
   "source": [
    "# Check if a given string is binary string or not"
   ]
  },
  {
   "cell_type": "code",
   "execution_count": 39,
   "metadata": {},
   "outputs": [
    {
     "name": "stdout",
     "output_type": "stream",
     "text": [
      "its a binary\n",
      "its not a binary\n"
     ]
    }
   ],
   "source": [
    "def check(str):\n",
    "    str1 = ''\n",
    "    for i in str:\n",
    "        if (i=='0' or i =='1'):\n",
    "            str1 = str1 + i\n",
    "        else:\n",
    "            pass\n",
    "    if(len(str1)==len(str)):\n",
    "        print('its a binary')\n",
    "    else:\n",
    "        print('its not a binary')\n",
    "        \n",
    "num = \"01010101010\"\n",
    "num1 = \"01010w01010\"\n",
    "check(num)\n",
    "check(num1)  "
   ]
  },
  {
   "cell_type": "code",
   "execution_count": 36,
   "metadata": {},
   "outputs": [
    {
     "name": "stdout",
     "output_type": "stream",
     "text": [
      "ae\n"
     ]
    }
   ],
   "source": [
    "# seperate a and e\n",
    "name = 'aewsxqs'\n",
    "name1 = ''\n",
    "for i in name:\n",
    "    if (i=='a'or i=='e'):\n",
    "        name1 = name1 + i\n",
    "    else:\n",
    "        pass\n",
    "print(name1)\n"
   ]
  },
  {
   "cell_type": "code",
   "execution_count": null,
   "metadata": {},
   "outputs": [],
   "source": []
  }
 ],
 "metadata": {
  "kernelspec": {
   "display_name": "Python 3",
   "language": "python",
   "name": "python3"
  },
  "language_info": {
   "codemirror_mode": {
    "name": "ipython",
    "version": 3
   },
   "file_extension": ".py",
   "mimetype": "text/x-python",
   "name": "python",
   "nbconvert_exporter": "python",
   "pygments_lexer": "ipython3",
   "version": "3.8.5"
  }
 },
 "nbformat": 4,
 "nbformat_minor": 4
}
