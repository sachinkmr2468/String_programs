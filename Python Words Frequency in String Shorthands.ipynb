{
 "cells": [
  {
   "cell_type": "markdown",
   "metadata": {},
   "source": [
    "# Python – Words Frequency in String Shorthands"
   ]
  },
  {
   "cell_type": "code",
   "execution_count": 103,
   "metadata": {},
   "outputs": [
    {
     "name": "stdout",
     "output_type": "stream",
     "text": [
      "2 Gfg\n",
      "1 is\n",
      "1 best\n",
      "1 .\n",
      "2 Geeks\n",
      "1 are\n",
      "1 good\n",
      "1 and\n",
      "2 Geeks\n",
      "1 like\n",
      "2 Gfg\n"
     ]
    }
   ],
   "source": [
    "test_str = 'Gfg is best . Geeks are good and Geeks like Gfg'\n",
    "for i in test_str.split():\n",
    "    counts = test_str.count(i)\n",
    "    print(counts,i)\n",
    "\n",
    "   \n",
    "    "
   ]
  },
  {
   "cell_type": "code",
   "execution_count": null,
   "metadata": {},
   "outputs": [],
   "source": []
  }
 ],
 "metadata": {
  "kernelspec": {
   "display_name": "Python 3",
   "language": "python",
   "name": "python3"
  },
  "language_info": {
   "codemirror_mode": {
    "name": "ipython",
    "version": 3
   },
   "file_extension": ".py",
   "mimetype": "text/x-python",
   "name": "python",
   "nbconvert_exporter": "python",
   "pygments_lexer": "ipython3",
   "version": "3.8.5"
  }
 },
 "nbformat": 4,
 "nbformat_minor": 4
}
