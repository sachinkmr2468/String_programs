{
 "cells": [
  {
   "cell_type": "markdown",
   "metadata": {},
   "source": [
    "# Python | Count the Number of matching characters in a pair of string"
   ]
  },
  {
   "cell_type": "code",
   "execution_count": 5,
   "metadata": {},
   "outputs": [
    {
     "name": "stdout",
     "output_type": "stream",
     "text": [
      "these are not matching = {'f'}\n"
     ]
    }
   ],
   "source": [
    "def check(str1,str2):\n",
    "    s = set(str1.lower())\n",
    "    s1 = set(str2.lower())\n",
    "    a = set({})\n",
    "    a1 = set({})\n",
    "    for i in s1:\n",
    "        if i in s:\n",
    "            a.add(i)\n",
    "        else:\n",
    "            a1.add(i)\n",
    "    if len(a)==len(s1):\n",
    "        print('all characters are matchin =', a)\n",
    "    else:\n",
    "        print('these are not matching =',a1)\n",
    "\n",
    "check('abcd','abcdf')\n",
    "\n",
    "        \n",
    "    "
   ]
  },
  {
   "cell_type": "code",
   "execution_count": 25,
   "metadata": {},
   "outputs": [
    {
     "name": "stdout",
     "output_type": "stream",
     "text": [
      "these are not matching  g\n"
     ]
    }
   ],
   "source": [
    "def check(str1,str2):\n",
    "    s = str1.lower()\n",
    "    s1 = str2.lower()\n",
    "    a = ''\n",
    "    b = ''\n",
    "    for i in s1:\n",
    "        if i in s:\n",
    "            a = a + i\n",
    "        else:\n",
    "            b = b + i\n",
    "    if len(a) == len(s1):\n",
    "        print('all char are matching',a)\n",
    "    else:\n",
    "        print('these are not matching ', b)\n",
    "\n",
    "check('abcdef','abcdefg')"
   ]
  },
  {
   "cell_type": "code",
   "execution_count": 16,
   "metadata": {},
   "outputs": [
    {
     "name": "stdout",
     "output_type": "stream",
     "text": [
      "No. of matching characters are  5\n"
     ]
    }
   ],
   "source": [
    "import re\n",
    "ip1 = \"geeks\"\n",
    "ip2 = \"geeksonly\"\n",
    "  \n",
    "c = 0\n",
    "for i in ip1:\n",
    "    if re.search(i,ip2):\n",
    "        c=c+1\n",
    "print(\"No. of matching characters are \", c)"
   ]
  },
  {
   "cell_type": "code",
   "execution_count": null,
   "metadata": {},
   "outputs": [],
   "source": []
  }
 ],
 "metadata": {
  "kernelspec": {
   "display_name": "Python 3",
   "language": "python",
   "name": "python3"
  },
  "language_info": {
   "codemirror_mode": {
    "name": "ipython",
    "version": 3
   },
   "file_extension": ".py",
   "mimetype": "text/x-python",
   "name": "python",
   "nbconvert_exporter": "python",
   "pygments_lexer": "ipython3",
   "version": "3.8.5"
  }
 },
 "nbformat": 4,
 "nbformat_minor": 4
}
