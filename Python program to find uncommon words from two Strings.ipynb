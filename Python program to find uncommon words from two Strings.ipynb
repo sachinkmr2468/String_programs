{
 "cells": [
  {
   "cell_type": "markdown",
   "metadata": {},
   "source": [
    "# Python program to find uncommon words from two Strings"
   ]
  },
  {
   "cell_type": "code",
   "execution_count": 62,
   "metadata": {},
   "outputs": [
    {
     "name": "stdout",
     "output_type": "stream",
     "text": [
      "{'from', 'Learning'}\n"
     ]
    }
   ],
   "source": [
    "def uncommonwords(str1,str2):\n",
    "    str11 = str1.split()\n",
    "    str22 = str2.split()\n",
    "    str33 = []\n",
    "    \n",
    "    for i in str11:\n",
    "        if i not in str22:\n",
    "            str33.append(i)\n",
    "    for j in str22:\n",
    "        if j not in str11:\n",
    "            str33.append(j)\n",
    "    print(set(str33)) # used set to avoid any duplication\n",
    "\n",
    "A = \"Geeks for Geeks\"\n",
    "B = \"Learning from Geeks for Geeks\"\n",
    "uncommonwords(A,B)"
   ]
  },
  {
   "cell_type": "code",
   "execution_count": 66,
   "metadata": {},
   "outputs": [
    {
     "name": "stdout",
     "output_type": "stream",
     "text": [
      "{'fruits', 'apple'}\n"
     ]
    }
   ],
   "source": [
    "def uncommon(a,b):\n",
    "  a=a.split()\n",
    "  b=b.split()\n",
    "  k=set(a).symmetric_difference(set(b))\n",
    "  return k\n",
    "  \n",
    "\n",
    "a1=\"apple banana mango\" \n",
    "b1=\"banana fruits mango\"\n",
    "print(uncommon(a1,b1))\n"
   ]
  },
  {
   "cell_type": "code",
   "execution_count": 70,
   "metadata": {},
   "outputs": [
    {
     "name": "stdout",
     "output_type": "stream",
     "text": [
      " apple fruits\n"
     ]
    }
   ],
   "source": [
    "def uncommon(a,b):\n",
    "    list_a = a.split()\n",
    "    list_b = b.split()\n",
    "    uc = ''\n",
    "    for i in list_a:\n",
    "        if i not in list_b:\n",
    "            uc = uc+ ' '+i # used '' only to separte the values by space\n",
    "    for j in list_b:\n",
    "        if j not in list_a:\n",
    "            uc = uc+ ' ' +j\n",
    "  \n",
    "    return uc\n",
    "  \n",
    "# Driver code\n",
    "a = \"apple banana mango\"\n",
    "b = \"banana fruits mango\"\n",
    "print(uncommon(a,b))"
   ]
  },
  {
   "cell_type": "code",
   "execution_count": null,
   "metadata": {},
   "outputs": [],
   "source": []
  }
 ],
 "metadata": {
  "kernelspec": {
   "display_name": "Python 3",
   "language": "python",
   "name": "python3"
  },
  "language_info": {
   "codemirror_mode": {
    "name": "ipython",
    "version": 3
   },
   "file_extension": ".py",
   "mimetype": "text/x-python",
   "name": "python",
   "nbconvert_exporter": "python",
   "pygments_lexer": "ipython3",
   "version": "3.8.5"
  }
 },
 "nbformat": 4,
 "nbformat_minor": 4
}
