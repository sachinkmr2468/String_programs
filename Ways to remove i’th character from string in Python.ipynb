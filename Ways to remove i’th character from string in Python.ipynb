{
 "cells": [
  {
   "cell_type": "markdown",
   "metadata": {},
   "source": [
    "# Ways to remove i’th character from string in Python"
   ]
  },
  {
   "cell_type": "code",
   "execution_count": 49,
   "metadata": {},
   "outputs": [
    {
     "name": "stdout",
     "output_type": "stream",
     "text": [
      "sachn kumar\n"
     ]
    }
   ],
   "source": [
    "#using for loop\n",
    "name = 'sachin kumar'\n",
    "name1 = ''\n",
    "\n",
    "for i in range(len(name)):\n",
    "    if (i!=4):\n",
    "        name1 = name1 + name[i]\n",
    "\n",
    "    \n",
    "print(name1)"
   ]
  },
  {
   "cell_type": "code",
   "execution_count": 59,
   "metadata": {},
   "outputs": [
    {
     "name": "stdout",
     "output_type": "stream",
     "text": [
      "GeekForGeek \n",
      " GeekForGeeks\n"
     ]
    }
   ],
   "source": [
    "#using replace\n",
    "strg = \"GeeksForGeeks\"\n",
    "#removed all the s from the main string, nt the right approach\n",
    "new = strg.replace('s', '')\n",
    "#remove s by its position\n",
    "new1 = strg.replace('s','',1)\n",
    "print(new,'\\n',new1)"
   ]
  },
  {
   "cell_type": "code",
   "execution_count": 62,
   "metadata": {},
   "outputs": [
    {
     "name": "stdout",
     "output_type": "stream",
     "text": [
      "GeksForGeeks\n"
     ]
    }
   ],
   "source": [
    "#using slicing\n",
    "strg = \"GeeksForGeeks\"\n",
    "new = strg[:2] + strg[3:]\n",
    "print(new)"
   ]
  },
  {
   "cell_type": "code",
   "execution_count": 65,
   "metadata": {},
   "outputs": [
    {
     "data": {
      "text/plain": [
       "'GeksForGeeks'"
      ]
     },
     "execution_count": 65,
     "metadata": {},
     "output_type": "execute_result"
    }
   ],
   "source": [
    "# user defined\n",
    "def removing(name,n):\n",
    "    name1 = ''\n",
    "    for i in range(len(name)):\n",
    "        if (i!=n):\n",
    "            name1 = name1 + name[i]\n",
    "    return (name1) \n",
    "\n",
    "input = \"GeeksForGeeks\"\n",
    "removing(input,2)\n",
    "        \n"
   ]
  },
  {
   "cell_type": "code",
   "execution_count": null,
   "metadata": {},
   "outputs": [],
   "source": []
  }
 ],
 "metadata": {
  "kernelspec": {
   "display_name": "Python 3",
   "language": "python",
   "name": "python3"
  },
  "language_info": {
   "codemirror_mode": {
    "name": "ipython",
    "version": 3
   },
   "file_extension": ".py",
   "mimetype": "text/x-python",
   "name": "python",
   "nbconvert_exporter": "python",
   "pygments_lexer": "ipython3",
   "version": "3.8.5"
  }
 },
 "nbformat": 4,
 "nbformat_minor": 4
}
